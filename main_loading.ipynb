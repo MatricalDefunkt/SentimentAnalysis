{
 "cells": [
  {
   "cell_type": "code",
   "execution_count": 1,
   "metadata": {},
   "outputs": [],
   "source": [
    "import pandas as pd"
   ]
  },
  {
   "cell_type": "code",
   "execution_count": 2,
   "metadata": {},
   "outputs": [],
   "source": [
    "# import dataset from csv file\n",
    "df = pd.read_csv('tweet_sentiment_450K_shuffled.csv')"
   ]
  },
  {
   "cell_type": "code",
   "execution_count": 3,
   "metadata": {},
   "outputs": [
    {
     "name": "stdout",
     "output_type": "stream",
     "text": [
      "(450201, 2)\n",
      "                                                text airline_sentiment\n",
      "0  @creativeleagueD creativeleague  Hey, you foll...          positive\n",
      "1  @DonnieWahlberg  No probs Donnie as long as yo...          positive\n",
      "2               @LukeP182 good luck you dumb shit..           positive\n",
      "3               k so i need a new cellphone charger           negative\n",
      "4                          DONT WRITE ANYTHING MEAN           negative\n",
      "                                                     text airline_sentiment\n",
      "450196  Great day  going out again.. Marsascala anyone...          positive\n",
      "450197  @mileycyrus so i have the same insomnia prob a...          negative\n",
      "450198  @Angelkiss283 Working is no fun!  How about to...          negative\n",
      "450199                           chicago bulls lost    ((          negative\n",
      "450200  @lucykatecrafts Makes  the effort of a tutoria...          positive\n"
     ]
    }
   ],
   "source": [
    "review_df = df[['text', 'airline_sentiment']]\n",
    "review_df = review_df[review_df['airline_sentiment'] != 'neutral']\n",
    "print(review_df.shape)\n",
    "print(review_df.head(5))\n",
    "print(review_df.tail(5))"
   ]
  },
  {
   "cell_type": "code",
   "execution_count": 4,
   "metadata": {},
   "outputs": [
    {
     "name": "stdout",
     "output_type": "stream",
     "text": [
      "negative    226824\n",
      "positive    223377\n",
      "Name: airline_sentiment, dtype: int64\n"
     ]
    }
   ],
   "source": [
    "print(review_df[\"airline_sentiment\"].value_counts())\n"
   ]
  },
  {
   "cell_type": "code",
   "execution_count": 5,
   "metadata": {},
   "outputs": [
    {
     "name": "stdout",
     "output_type": "stream",
     "text": [
      "(array([0, 0, 0, ..., 1, 1, 0], dtype=int64), Index(['positive', 'negative'], dtype='object'))\n"
     ]
    }
   ],
   "source": [
    "sentiment_label = review_df.airline_sentiment.factorize()\n",
    "tweet = review_df.text.values\n",
    "\n",
    "print(sentiment_label)\n"
   ]
  },
  {
   "cell_type": "code",
   "execution_count": 6,
   "metadata": {},
   "outputs": [
    {
     "name": "stderr",
     "output_type": "stream",
     "text": [
      "c:\\Users\\prami\\miniconda3\\lib\\site-packages\\scipy\\__init__.py:146: UserWarning: A NumPy version >=1.16.5 and <1.23.0 is required for this version of SciPy (detected version 1.23.4\n",
      "  warnings.warn(f\"A NumPy version >={np_minversion} and <{np_maxversion}\"\n"
     ]
    }
   ],
   "source": [
    "from keras.preprocessing.sequence import data_utils\n",
    "from keras.preprocessing.text import Tokenizer\n",
    "\n",
    "tokenizer = Tokenizer(num_words=100000)\n",
    "tokenizer.fit_on_texts(tweet)\n",
    "tokenizer.word_index # dictionary of words and their index\n",
    "encoded_docs = tokenizer.texts_to_sequences(tweet)"
   ]
  },
  {
   "cell_type": "code",
   "execution_count": 7,
   "metadata": {},
   "outputs": [],
   "source": [
    "from keras.models import load_model, Sequential\n",
    "\n",
    "loaded_model: Sequential = load_model(\"./sa_450K\") # type: ignore"
   ]
  },
  {
   "cell_type": "code",
   "execution_count": 8,
   "metadata": {},
   "outputs": [],
   "source": [
    "from keras.preprocessing.text import Tokenizer\n",
    "from keras.preprocessing.sequence import data_utils\n",
    "from tensorflow import Tensor\n",
    "from numpy import float32\n",
    "\n",
    "new_tokenizer = Tokenizer(num_words=100000)\n",
    "new_tokenizer.fit_on_texts(tweet)\n",
    "\n",
    "def predict_sentiment_loaded(text: str):\n",
    "    tw = new_tokenizer.texts_to_sequences([text])\n",
    "    tw = data_utils.pad_sequences(tw, maxlen=200)\n",
    "    tensor: Tensor = loaded_model.__call__(tw, training = True) # type: ignore\n",
    "    raw_prediction: float32 = tensor.dtype.as_numpy_dtype(\n",
    "        tensor.numpy()[0][0])  # type: ignore\n",
    "    prediction = int(raw_prediction.round().item())\n",
    "    # Calculate confidence using raw prediction\n",
    "    confidence = ((raw_prediction.item() if prediction == 1 else 1 - raw_prediction.item())-0.5)*2\n",
    "    return (sentiment_label[1][prediction], confidence)\n"
   ]
  },
  {
   "cell_type": "code",
   "execution_count": 11,
   "metadata": {},
   "outputs": [
    {
     "name": "stdout",
     "output_type": "stream",
     "text": [
      "Input: kkjkjhjghfgsd\n",
      "Sentiment: positive\n",
      "Confidence: 4.76%\n",
      "================================\n",
      "Input: mansi\n",
      "Sentiment: negative\n",
      "Confidence: 6.11%\n",
      "================================\n",
      "Input: Pramit\n",
      "Sentiment: positive\n",
      "Confidence: 10.19%\n",
      "================================\n",
      "Input: jenboi\n",
      "Sentiment: negative\n",
      "Confidence: 14.53%\n",
      "================================\n"
     ]
    }
   ],
   "source": [
    "# Get and predict sentiment of text\n",
    "\n",
    "while True:\n",
    "    user_input = input(\"Enter text to analyze: \")\n",
    "    if user_input == \"!exit\":\n",
    "        break\n",
    "    prediction, confidence = predict_sentiment_loaded(user_input)\n",
    "    print(f\"Input: {user_input}\")\n",
    "    print(f\"Sentiment: {prediction}\")\n",
    "    print(f\"Confidence: {confidence*100:.2f}%\")\n",
    "    print(\"================================\")\n",
    "    "
   ]
  },
  {
   "cell_type": "code",
   "execution_count": 10,
   "metadata": {},
   "outputs": [
    {
     "name": "stdout",
     "output_type": "stream",
     "text": [
      "errored as expected\n",
      "('positive', 0.4834062457084656)\n"
     ]
    }
   ],
   "source": [
    "\n",
    "# Random Assertions\n",
    "\n",
    "assert predict_sentiment_loaded(\"I am so happy\")[0] == \"positive\"\n",
    "assert predict_sentiment_loaded(\"I am so sad\")[0] == \"negative\"\n",
    "try:  assert predict_sentiment_loaded(\"I am so angry!\")[0] == \"negative\"\n",
    "except AssertionError: print(\"errored as expected\")\n",
    "print(predict_sentiment_loaded(\"I am so angry!\"))\n"
   ]
  }
 ],
 "metadata": {
  "kernelspec": {
   "display_name": "Python 3.10.8 ('base')",
   "language": "python",
   "name": "python3"
  },
  "language_info": {
   "codemirror_mode": {
    "name": "ipython",
    "version": 3
   },
   "file_extension": ".py",
   "mimetype": "text/x-python",
   "name": "python",
   "nbconvert_exporter": "python",
   "pygments_lexer": "ipython3",
   "version": "3.10.8"
  },
  "orig_nbformat": 4,
  "vscode": {
   "interpreter": {
    "hash": "ef438448d7d30851420286b6b90ff196152297b4c99a0b26960ad9000f50f548"
   }
  }
 },
 "nbformat": 4,
 "nbformat_minor": 2
}
