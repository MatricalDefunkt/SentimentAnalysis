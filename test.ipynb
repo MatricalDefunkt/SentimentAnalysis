{
 "cells": [
  {
   "cell_type": "code",
   "execution_count": 2,
   "metadata": {},
   "outputs": [
    {
     "name": "stdout",
     "output_type": "stream",
     "text": [
      "(60000, 2)\n"
     ]
    },
    {
     "data": {
      "text/html": [
       "<div>\n",
       "<style scoped>\n",
       "    .dataframe tbody tr th:only-of-type {\n",
       "        vertical-align: middle;\n",
       "    }\n",
       "\n",
       "    .dataframe tbody tr th {\n",
       "        vertical-align: top;\n",
       "    }\n",
       "\n",
       "    .dataframe thead th {\n",
       "        text-align: right;\n",
       "    }\n",
       "</style>\n",
       "<table border=\"1\" class=\"dataframe\">\n",
       "  <thead>\n",
       "    <tr style=\"text-align: right;\">\n",
       "      <th></th>\n",
       "      <th>text</th>\n",
       "      <th>airline_sentiment</th>\n",
       "    </tr>\n",
       "  </thead>\n",
       "  <tbody>\n",
       "    <tr>\n",
       "      <th>53867</th>\n",
       "      <td>just can't wait to get my NEW uniform.</td>\n",
       "      <td>positive</td>\n",
       "    </tr>\n",
       "    <tr>\n",
       "      <th>43704</th>\n",
       "      <td>Tonight we are finally using our free warwick ...</td>\n",
       "      <td>positive</td>\n",
       "    </tr>\n",
       "    <tr>\n",
       "      <th>29571</th>\n",
       "      <td>Trying to get train to London to present to CE...</td>\n",
       "      <td>negative</td>\n",
       "    </tr>\n",
       "    <tr>\n",
       "      <th>29439</th>\n",
       "      <td>@CHRISDJMOYLES I feel zombified  haha</td>\n",
       "      <td>negative</td>\n",
       "    </tr>\n",
       "    <tr>\n",
       "      <th>55934</th>\n",
       "      <td>@petemc @newvibes   I reckon we need to invent...</td>\n",
       "      <td>positive</td>\n",
       "    </tr>\n",
       "    <tr>\n",
       "      <th>...</th>\n",
       "      <td>...</td>\n",
       "      <td>...</td>\n",
       "    </tr>\n",
       "    <tr>\n",
       "      <th>58489</th>\n",
       "      <td>@markdudlik Dunno... I'm guessing the same as ...</td>\n",
       "      <td>positive</td>\n",
       "    </tr>\n",
       "    <tr>\n",
       "      <th>9461</th>\n",
       "      <td>wishing i could get tickets to the Johnny reid...</td>\n",
       "      <td>negative</td>\n",
       "    </tr>\n",
       "    <tr>\n",
       "      <th>48144</th>\n",
       "      <td>@SukieBunny thanks! How is the bunny family?</td>\n",
       "      <td>positive</td>\n",
       "    </tr>\n",
       "    <tr>\n",
       "      <th>5489</th>\n",
       "      <td>ew snow! but anywho im getting ready to go to ...</td>\n",
       "      <td>negative</td>\n",
       "    </tr>\n",
       "    <tr>\n",
       "      <th>35243</th>\n",
       "      <td>@shanedawson my birthday is today! Seriously! ...</td>\n",
       "      <td>positive</td>\n",
       "    </tr>\n",
       "  </tbody>\n",
       "</table>\n",
       "<p>60000 rows × 2 columns</p>\n",
       "</div>"
      ],
      "text/plain": [
       "                                                    text airline_sentiment\n",
       "53867            just can't wait to get my NEW uniform.           positive\n",
       "43704  Tonight we are finally using our free warwick ...          positive\n",
       "29571  Trying to get train to London to present to CE...          negative\n",
       "29439              @CHRISDJMOYLES I feel zombified  haha          negative\n",
       "55934  @petemc @newvibes   I reckon we need to invent...          positive\n",
       "...                                                  ...               ...\n",
       "58489  @markdudlik Dunno... I'm guessing the same as ...          positive\n",
       "9461   wishing i could get tickets to the Johnny reid...          negative\n",
       "48144      @SukieBunny thanks! How is the bunny family?           positive\n",
       "5489   ew snow! but anywho im getting ready to go to ...          negative\n",
       "35243  @shanedawson my birthday is today! Seriously! ...          positive\n",
       "\n",
       "[60000 rows x 2 columns]"
      ]
     },
     "execution_count": 2,
     "metadata": {},
     "output_type": "execute_result"
    }
   ],
   "source": [
    "import pandas as pd\n",
    "# import dataset from csv file\n",
    "df = pd.read_csv('tweet_sentiment.csv')\n",
    "review_df = df[['text', 'airline_sentiment']]\n",
    "review_df = review_df[review_df['airline_sentiment'] != 'neutral']\n",
    "review_df = review_df.sample(frac=1) #Shuffle array\n",
    "print(review_df.shape)\n",
    "\n",
    "review_df"
   ]
  },
  {
   "cell_type": "code",
   "execution_count": null,
   "metadata": {},
   "outputs": [],
   "source": []
  }
 ],
 "metadata": {
  "kernelspec": {
   "display_name": "Python 3.10.8 ('base')",
   "language": "python",
   "name": "python3"
  },
  "language_info": {
   "codemirror_mode": {
    "name": "ipython",
    "version": 3
   },
   "file_extension": ".py",
   "mimetype": "text/x-python",
   "name": "python",
   "nbconvert_exporter": "python",
   "pygments_lexer": "ipython3",
   "version": "3.10.8 | packaged by conda-forge | (main, Nov 24 2022, 14:07:00) [MSC v.1916 64 bit (AMD64)]"
  },
  "orig_nbformat": 4,
  "vscode": {
   "interpreter": {
    "hash": "ef438448d7d30851420286b6b90ff196152297b4c99a0b26960ad9000f50f548"
   }
  }
 },
 "nbformat": 4,
 "nbformat_minor": 2
}
